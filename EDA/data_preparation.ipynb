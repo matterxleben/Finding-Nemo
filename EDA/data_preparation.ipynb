{
 "cells": [
  {
   "cell_type": "markdown",
   "metadata": {},
   "source": [
    "### Data Preparation for Base Model"
   ]
  },
  {
   "cell_type": "code",
   "execution_count": 9,
   "metadata": {},
   "outputs": [],
   "source": [
    "import pandas as pd\n",
    "import ast\n",
    "import numpy as np"
   ]
  },
  {
   "cell_type": "code",
   "execution_count": null,
   "metadata": {},
   "outputs": [],
   "source": [
    "df = pd.read_csv(\"data/train_classification_labels.csv\")"
   ]
  },
  {
   "cell_type": "code",
   "execution_count": 5,
   "metadata": {},
   "outputs": [
    {
     "data": {
      "text/html": [
       "<div>\n",
       "<style scoped>\n",
       "    .dataframe tbody tr th:only-of-type {\n",
       "        vertical-align: middle;\n",
       "    }\n",
       "\n",
       "    .dataframe tbody tr th {\n",
       "        vertical-align: top;\n",
       "    }\n",
       "\n",
       "    .dataframe thead th {\n",
       "        text-align: right;\n",
       "    }\n",
       "</style>\n",
       "<table border=\"1\" class=\"dataframe\">\n",
       "  <thead>\n",
       "    <tr style=\"text-align: right;\">\n",
       "      <th></th>\n",
       "      <th>id</th>\n",
       "      <th>categories</th>\n",
       "    </tr>\n",
       "  </thead>\n",
       "  <tbody>\n",
       "    <tr>\n",
       "      <th>0</th>\n",
       "      <td>3b6f01ae-5bde-434d-9b06-79b269421ed6</td>\n",
       "      <td>[1.0]</td>\n",
       "    </tr>\n",
       "    <tr>\n",
       "      <th>1</th>\n",
       "      <td>dce21f7c-20e5-482b-bd90-c038f8464c03</td>\n",
       "      <td>[1.0]</td>\n",
       "    </tr>\n",
       "    <tr>\n",
       "      <th>2</th>\n",
       "      <td>4a7f2199-772d-486d-b8e2-b651246316b5</td>\n",
       "      <td>[1.0]</td>\n",
       "    </tr>\n",
       "    <tr>\n",
       "      <th>3</th>\n",
       "      <td>3bddedf6-4ff8-4e81-876a-564d2b03b364</td>\n",
       "      <td>[1.0, 9.0, 11.0, 88.0]</td>\n",
       "    </tr>\n",
       "    <tr>\n",
       "      <th>4</th>\n",
       "      <td>3f735021-f5de-4168-b139-74bf2859d12a</td>\n",
       "      <td>[1.0, 37.0, 51.0, 119.0]</td>\n",
       "    </tr>\n",
       "  </tbody>\n",
       "</table>\n",
       "</div>"
      ],
      "text/plain": [
       "                                     id                categories\n",
       "0  3b6f01ae-5bde-434d-9b06-79b269421ed6                     [1.0]\n",
       "1  dce21f7c-20e5-482b-bd90-c038f8464c03                     [1.0]\n",
       "2  4a7f2199-772d-486d-b8e2-b651246316b5                     [1.0]\n",
       "3  3bddedf6-4ff8-4e81-876a-564d2b03b364    [1.0, 9.0, 11.0, 88.0]\n",
       "4  3f735021-f5de-4168-b139-74bf2859d12a  [1.0, 37.0, 51.0, 119.0]"
      ]
     },
     "execution_count": 5,
     "metadata": {},
     "output_type": "execute_result"
    }
   ],
   "source": [
    "df.head()"
   ]
  },
  {
   "cell_type": "code",
   "execution_count": 8,
   "metadata": {},
   "outputs": [
    {
     "data": {
      "text/html": [
       "<div>\n",
       "<style scoped>\n",
       "    .dataframe tbody tr th:only-of-type {\n",
       "        vertical-align: middle;\n",
       "    }\n",
       "\n",
       "    .dataframe tbody tr th {\n",
       "        vertical-align: top;\n",
       "    }\n",
       "\n",
       "    .dataframe thead th {\n",
       "        text-align: right;\n",
       "    }\n",
       "</style>\n",
       "<table border=\"1\" class=\"dataframe\">\n",
       "  <thead>\n",
       "    <tr style=\"text-align: right;\">\n",
       "      <th></th>\n",
       "      <th>id</th>\n",
       "      <th>categories</th>\n",
       "      <th>category_list</th>\n",
       "    </tr>\n",
       "  </thead>\n",
       "  <tbody>\n",
       "    <tr>\n",
       "      <th>0</th>\n",
       "      <td>3b6f01ae-5bde-434d-9b06-79b269421ed6</td>\n",
       "      <td>[1.0]</td>\n",
       "      <td>[1]</td>\n",
       "    </tr>\n",
       "    <tr>\n",
       "      <th>1</th>\n",
       "      <td>dce21f7c-20e5-482b-bd90-c038f8464c03</td>\n",
       "      <td>[1.0]</td>\n",
       "      <td>[1]</td>\n",
       "    </tr>\n",
       "    <tr>\n",
       "      <th>2</th>\n",
       "      <td>4a7f2199-772d-486d-b8e2-b651246316b5</td>\n",
       "      <td>[1.0]</td>\n",
       "      <td>[1]</td>\n",
       "    </tr>\n",
       "    <tr>\n",
       "      <th>3</th>\n",
       "      <td>3bddedf6-4ff8-4e81-876a-564d2b03b364</td>\n",
       "      <td>[1.0, 9.0, 11.0, 88.0]</td>\n",
       "      <td>[1, 9, 11, 88]</td>\n",
       "    </tr>\n",
       "    <tr>\n",
       "      <th>4</th>\n",
       "      <td>3f735021-f5de-4168-b139-74bf2859d12a</td>\n",
       "      <td>[1.0, 37.0, 51.0, 119.0]</td>\n",
       "      <td>[1, 37, 51, 119]</td>\n",
       "    </tr>\n",
       "  </tbody>\n",
       "</table>\n",
       "</div>"
      ],
      "text/plain": [
       "                                     id                categories  \\\n",
       "0  3b6f01ae-5bde-434d-9b06-79b269421ed6                     [1.0]   \n",
       "1  dce21f7c-20e5-482b-bd90-c038f8464c03                     [1.0]   \n",
       "2  4a7f2199-772d-486d-b8e2-b651246316b5                     [1.0]   \n",
       "3  3bddedf6-4ff8-4e81-876a-564d2b03b364    [1.0, 9.0, 11.0, 88.0]   \n",
       "4  3f735021-f5de-4168-b139-74bf2859d12a  [1.0, 37.0, 51.0, 119.0]   \n",
       "\n",
       "      category_list  \n",
       "0               [1]  \n",
       "1               [1]  \n",
       "2               [1]  \n",
       "3    [1, 9, 11, 88]  \n",
       "4  [1, 37, 51, 119]  "
      ]
     },
     "execution_count": 8,
     "metadata": {},
     "output_type": "execute_result"
    }
   ],
   "source": [
    "def parse_categories(cat_str):\n",
    "    # ast.literal_eval safely evaluates the string to a list\n",
    "    cats = ast.literal_eval(cat_str)\n",
    "    # Convert each category from float to int\n",
    "    return [int(x) for x in cats]\n",
    "\n",
    "# Apply the parsing function\n",
    "df['category_list'] = df['categories'].apply(parse_categories)\n",
    "\n",
    "df.head()"
   ]
  },
  {
   "cell_type": "code",
   "execution_count": 10,
   "metadata": {},
   "outputs": [
    {
     "data": {
      "text/html": [
       "<div>\n",
       "<style scoped>\n",
       "    .dataframe tbody tr th:only-of-type {\n",
       "        vertical-align: middle;\n",
       "    }\n",
       "\n",
       "    .dataframe tbody tr th {\n",
       "        vertical-align: top;\n",
       "    }\n",
       "\n",
       "    .dataframe thead th {\n",
       "        text-align: right;\n",
       "    }\n",
       "</style>\n",
       "<table border=\"1\" class=\"dataframe\">\n",
       "  <thead>\n",
       "    <tr style=\"text-align: right;\">\n",
       "      <th></th>\n",
       "      <th>id</th>\n",
       "      <th>categories</th>\n",
       "      <th>category_list</th>\n",
       "      <th>multi_hot</th>\n",
       "    </tr>\n",
       "  </thead>\n",
       "  <tbody>\n",
       "    <tr>\n",
       "      <th>0</th>\n",
       "      <td>3b6f01ae-5bde-434d-9b06-79b269421ed6</td>\n",
       "      <td>[1.0]</td>\n",
       "      <td>[1]</td>\n",
       "      <td>[1.0, 0.0, 0.0, 0.0, 0.0, 0.0, 0.0, 0.0, 0.0, ...</td>\n",
       "    </tr>\n",
       "    <tr>\n",
       "      <th>1</th>\n",
       "      <td>dce21f7c-20e5-482b-bd90-c038f8464c03</td>\n",
       "      <td>[1.0]</td>\n",
       "      <td>[1]</td>\n",
       "      <td>[1.0, 0.0, 0.0, 0.0, 0.0, 0.0, 0.0, 0.0, 0.0, ...</td>\n",
       "    </tr>\n",
       "    <tr>\n",
       "      <th>2</th>\n",
       "      <td>4a7f2199-772d-486d-b8e2-b651246316b5</td>\n",
       "      <td>[1.0]</td>\n",
       "      <td>[1]</td>\n",
       "      <td>[1.0, 0.0, 0.0, 0.0, 0.0, 0.0, 0.0, 0.0, 0.0, ...</td>\n",
       "    </tr>\n",
       "    <tr>\n",
       "      <th>3</th>\n",
       "      <td>3bddedf6-4ff8-4e81-876a-564d2b03b364</td>\n",
       "      <td>[1.0, 9.0, 11.0, 88.0]</td>\n",
       "      <td>[1, 9, 11, 88]</td>\n",
       "      <td>[1.0, 0.0, 0.0, 0.0, 0.0, 0.0, 0.0, 0.0, 1.0, ...</td>\n",
       "    </tr>\n",
       "    <tr>\n",
       "      <th>4</th>\n",
       "      <td>3f735021-f5de-4168-b139-74bf2859d12a</td>\n",
       "      <td>[1.0, 37.0, 51.0, 119.0]</td>\n",
       "      <td>[1, 37, 51, 119]</td>\n",
       "      <td>[1.0, 0.0, 0.0, 0.0, 0.0, 0.0, 0.0, 0.0, 0.0, ...</td>\n",
       "    </tr>\n",
       "  </tbody>\n",
       "</table>\n",
       "</div>"
      ],
      "text/plain": [
       "                                     id                categories  \\\n",
       "0  3b6f01ae-5bde-434d-9b06-79b269421ed6                     [1.0]   \n",
       "1  dce21f7c-20e5-482b-bd90-c038f8464c03                     [1.0]   \n",
       "2  4a7f2199-772d-486d-b8e2-b651246316b5                     [1.0]   \n",
       "3  3bddedf6-4ff8-4e81-876a-564d2b03b364    [1.0, 9.0, 11.0, 88.0]   \n",
       "4  3f735021-f5de-4168-b139-74bf2859d12a  [1.0, 37.0, 51.0, 119.0]   \n",
       "\n",
       "      category_list                                          multi_hot  \n",
       "0               [1]  [1.0, 0.0, 0.0, 0.0, 0.0, 0.0, 0.0, 0.0, 0.0, ...  \n",
       "1               [1]  [1.0, 0.0, 0.0, 0.0, 0.0, 0.0, 0.0, 0.0, 0.0, ...  \n",
       "2               [1]  [1.0, 0.0, 0.0, 0.0, 0.0, 0.0, 0.0, 0.0, 0.0, ...  \n",
       "3    [1, 9, 11, 88]  [1.0, 0.0, 0.0, 0.0, 0.0, 0.0, 0.0, 0.0, 1.0, ...  \n",
       "4  [1, 37, 51, 119]  [1.0, 0.0, 0.0, 0.0, 0.0, 0.0, 0.0, 0.0, 0.0, ...  "
      ]
     },
     "execution_count": 10,
     "metadata": {},
     "output_type": "execute_result"
    }
   ],
   "source": [
    "# Define the total number of classes\n",
    "num_classes = 290\n",
    "\n",
    "# Function to create a multi-hot vector from the category list\n",
    "def multi_hot_vector(categories, num_classes):\n",
    "    vector = np.zeros(num_classes, dtype=np.float32)\n",
    "    for cat in categories:\n",
    "        # Assuming CSV classes are 1-indexed, convert to 0-indexed:\n",
    "        index = cat - 1\n",
    "        if 0 <= index < num_classes:\n",
    "            vector[index] = 1.0\n",
    "    return vector\n",
    "\n",
    "# Create a new column in the DataFrame with the multi-hot vectors\n",
    "df['multi_hot'] = df['category_list'].apply(lambda x: multi_hot_vector(x, num_classes))\n",
    "\n",
    "df.head()"
   ]
  },
  {
   "cell_type": "markdown",
   "metadata": {},
   "source": [
    "#### Checking an Example"
   ]
  },
  {
   "cell_type": "code",
   "execution_count": 13,
   "metadata": {},
   "outputs": [
    {
     "data": {
      "text/plain": [
       "id                            3bddedf6-4ff8-4e81-876a-564d2b03b364\n",
       "categories                                  [1.0, 9.0, 11.0, 88.0]\n",
       "category_list                                       [1, 9, 11, 88]\n",
       "multi_hot        [1.0, 0.0, 0.0, 0.0, 0.0, 0.0, 0.0, 0.0, 1.0, ...\n",
       "Name: 3, dtype: object"
      ]
     },
     "execution_count": 13,
     "metadata": {},
     "output_type": "execute_result"
    }
   ],
   "source": [
    "df.iloc[3, ]"
   ]
  },
  {
   "cell_type": "code",
   "execution_count": 12,
   "metadata": {},
   "outputs": [
    {
     "data": {
      "text/plain": [
       "array([1., 0., 0., 0., 0., 0., 0., 0., 1., 0., 1., 0., 0., 0., 0., 0., 0.,\n",
       "       0., 0., 0., 0., 0., 0., 0., 0., 0., 0., 0., 0., 0., 0., 0., 0., 0.,\n",
       "       0., 0., 0., 0., 0., 0., 0., 0., 0., 0., 0., 0., 0., 0., 0., 0., 0.,\n",
       "       0., 0., 0., 0., 0., 0., 0., 0., 0., 0., 0., 0., 0., 0., 0., 0., 0.,\n",
       "       0., 0., 0., 0., 0., 0., 0., 0., 0., 0., 0., 0., 0., 0., 0., 0., 0.,\n",
       "       0., 0., 1., 0., 0., 0., 0., 0., 0., 0., 0., 0., 0., 0., 0., 0., 0.,\n",
       "       0., 0., 0., 0., 0., 0., 0., 0., 0., 0., 0., 0., 0., 0., 0., 0., 0.,\n",
       "       0., 0., 0., 0., 0., 0., 0., 0., 0., 0., 0., 0., 0., 0., 0., 0., 0.,\n",
       "       0., 0., 0., 0., 0., 0., 0., 0., 0., 0., 0., 0., 0., 0., 0., 0., 0.,\n",
       "       0., 0., 0., 0., 0., 0., 0., 0., 0., 0., 0., 0., 0., 0., 0., 0., 0.,\n",
       "       0., 0., 0., 0., 0., 0., 0., 0., 0., 0., 0., 0., 0., 0., 0., 0., 0.,\n",
       "       0., 0., 0., 0., 0., 0., 0., 0., 0., 0., 0., 0., 0., 0., 0., 0., 0.,\n",
       "       0., 0., 0., 0., 0., 0., 0., 0., 0., 0., 0., 0., 0., 0., 0., 0., 0.,\n",
       "       0., 0., 0., 0., 0., 0., 0., 0., 0., 0., 0., 0., 0., 0., 0., 0., 0.,\n",
       "       0., 0., 0., 0., 0., 0., 0., 0., 0., 0., 0., 0., 0., 0., 0., 0., 0.,\n",
       "       0., 0., 0., 0., 0., 0., 0., 0., 0., 0., 0., 0., 0., 0., 0., 0., 0.,\n",
       "       0., 0., 0., 0., 0., 0., 0., 0., 0., 0., 0., 0., 0., 0., 0., 0., 0.,\n",
       "       0.], dtype=float32)"
      ]
     },
     "execution_count": 12,
     "metadata": {},
     "output_type": "execute_result"
    }
   ],
   "source": [
    "df.iloc[3, ][\"multi_hot\"]"
   ]
  },
  {
   "cell_type": "markdown",
   "metadata": {},
   "source": [
    "Looks good! This will be run in image loading pipeline"
   ]
  }
 ],
 "metadata": {
  "interpreter": {
   "hash": "2a9bd7810070e37208e1a8476d0254861185e6effa3bd4c406cf072683335f85"
  },
  "kernelspec": {
   "display_name": "Python 3.12.1 ('fathomnet-venv': venv)",
   "language": "python",
   "name": "python3"
  },
  "language_info": {
   "codemirror_mode": {
    "name": "ipython",
    "version": 3
   },
   "file_extension": ".py",
   "mimetype": "text/x-python",
   "name": "python",
   "nbconvert_exporter": "python",
   "pygments_lexer": "ipython3",
   "version": "3.12.1"
  },
  "orig_nbformat": 4
 },
 "nbformat": 4,
 "nbformat_minor": 2
}
